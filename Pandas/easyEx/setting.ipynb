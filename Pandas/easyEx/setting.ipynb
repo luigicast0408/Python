{
 "cells": [
  {
   "metadata": {
    "ExecuteTime": {
     "end_time": "2024-09-16T11:51:39.441632Z",
     "start_time": "2024-09-16T11:51:39.435927Z"
    }
   },
   "cell_type": "code",
   "source": [
    "import pandas as pd\n",
    "import numpy as np\n",
    "import matplotlib.pyplot as plt\n",
    "\n",
    "from Pandas.easyEx.objCreation import datas\n",
    "df = pd.DataFrame({\n",
    "        \"A\": 1.0,\n",
    "        \"B\": pd.Timestamp(\"20130102\"),\n",
    "        \"C\": pd.Series(1, index=list(range(4)), dtype=\"float32\"),\n",
    "        \"D\": np.array([3] * 4, dtype=\"int32\"),\n",
    "        \"E\": pd.Categorical([\"test\", \"train\", \"test\", \"train\"]),\n",
    "        \"F\": \"foo\",\n",
    "})\n",
    "data = pd.date_range(\"20130101\", periods=6)\n"
   ],
   "id": "5987f392d45260f9",
   "outputs": [],
   "execution_count": 29
  },
  {
   "metadata": {
    "ExecuteTime": {
     "end_time": "2024-09-16T11:52:55.931834Z",
     "start_time": "2024-09-16T11:52:55.927282Z"
    }
   },
   "cell_type": "code",
   "source": [
    "#new column automatically aligns the data by the indexes\n",
    "s1 = pd.Series([1,2,3,4,5,6], index=pd.date_range(\"20130102\", periods=6))\n",
    "#values by label\n",
    "df.at[data[0],\"A\"] = 0\n"
   ],
   "id": "a4d1409d31729a00",
   "outputs": [],
   "execution_count": 34
  },
  {
   "metadata": {
    "ExecuteTime": {
     "end_time": "2024-09-16T11:52:57.445787Z",
     "start_time": "2024-09-16T11:52:57.443248Z"
    }
   },
   "cell_type": "code",
   "source": [
    "#values by position\n",
    "df.iat[0, 1] = 0"
   ],
   "id": "a031d684e6c5e919",
   "outputs": [],
   "execution_count": 35
  },
  {
   "metadata": {
    "ExecuteTime": {
     "end_time": "2024-09-16T11:55:09.742592Z",
     "start_time": "2024-09-16T11:55:09.726778Z"
    }
   },
   "cell_type": "code",
   "source": [
    "#assigning with a NumPy array\n",
    "df.loc[:, \"D\"]=np.array([5] * len(df))"
   ],
   "id": "41b506d2fa467117",
   "outputs": [],
   "execution_count": 37
  },
  {
   "metadata": {
    "ExecuteTime": {
     "end_time": "2024-09-16T11:55:17.757921Z",
     "start_time": "2024-09-16T11:55:17.751417Z"
    }
   },
   "cell_type": "code",
   "source": "df",
   "id": "6cbd34b5a00d5c04",
   "outputs": [
    {
     "data": {
      "text/plain": [
       "                       A                    B    C    D      E    F\n",
       "0                    1.0                    0  1.0  5.0   test  foo\n",
       "1                    1.0  2013-01-02 00:00:00  1.0  5.0  train  foo\n",
       "2                    1.0  2013-01-02 00:00:00  1.0  5.0   test  foo\n",
       "3                    1.0  2013-01-02 00:00:00  1.0  5.0  train  foo\n",
       "2013-01-01 00:00:00  0.0                  NaT  NaN  5.0    NaN  NaN"
      ],
      "text/html": [
       "<div>\n",
       "<style scoped>\n",
       "    .dataframe tbody tr th:only-of-type {\n",
       "        vertical-align: middle;\n",
       "    }\n",
       "\n",
       "    .dataframe tbody tr th {\n",
       "        vertical-align: top;\n",
       "    }\n",
       "\n",
       "    .dataframe thead th {\n",
       "        text-align: right;\n",
       "    }\n",
       "</style>\n",
       "<table border=\"1\" class=\"dataframe\">\n",
       "  <thead>\n",
       "    <tr style=\"text-align: right;\">\n",
       "      <th></th>\n",
       "      <th>A</th>\n",
       "      <th>B</th>\n",
       "      <th>C</th>\n",
       "      <th>D</th>\n",
       "      <th>E</th>\n",
       "      <th>F</th>\n",
       "    </tr>\n",
       "  </thead>\n",
       "  <tbody>\n",
       "    <tr>\n",
       "      <th>0</th>\n",
       "      <td>1.0</td>\n",
       "      <td>0</td>\n",
       "      <td>1.0</td>\n",
       "      <td>5.0</td>\n",
       "      <td>test</td>\n",
       "      <td>foo</td>\n",
       "    </tr>\n",
       "    <tr>\n",
       "      <th>1</th>\n",
       "      <td>1.0</td>\n",
       "      <td>2013-01-02 00:00:00</td>\n",
       "      <td>1.0</td>\n",
       "      <td>5.0</td>\n",
       "      <td>train</td>\n",
       "      <td>foo</td>\n",
       "    </tr>\n",
       "    <tr>\n",
       "      <th>2</th>\n",
       "      <td>1.0</td>\n",
       "      <td>2013-01-02 00:00:00</td>\n",
       "      <td>1.0</td>\n",
       "      <td>5.0</td>\n",
       "      <td>test</td>\n",
       "      <td>foo</td>\n",
       "    </tr>\n",
       "    <tr>\n",
       "      <th>3</th>\n",
       "      <td>1.0</td>\n",
       "      <td>2013-01-02 00:00:00</td>\n",
       "      <td>1.0</td>\n",
       "      <td>5.0</td>\n",
       "      <td>train</td>\n",
       "      <td>foo</td>\n",
       "    </tr>\n",
       "    <tr>\n",
       "      <th>2013-01-01 00:00:00</th>\n",
       "      <td>0.0</td>\n",
       "      <td>NaT</td>\n",
       "      <td>NaN</td>\n",
       "      <td>5.0</td>\n",
       "      <td>NaN</td>\n",
       "      <td>NaN</td>\n",
       "    </tr>\n",
       "  </tbody>\n",
       "</table>\n",
       "</div>"
      ]
     },
     "execution_count": 39,
     "metadata": {},
     "output_type": "execute_result"
    }
   ],
   "execution_count": 39
  },
  {
   "metadata": {
    "ExecuteTime": {
     "end_time": "2024-09-18T23:06:09.228061Z",
     "start_time": "2024-09-18T23:06:09.226733Z"
    }
   },
   "cell_type": "code",
   "source": "",
   "id": "61ec04dd1963789d",
   "outputs": [],
   "execution_count": null
  },
  {
   "metadata": {},
   "cell_type": "code",
   "outputs": [],
   "execution_count": null,
   "source": "",
   "id": "9cba60fad3bbdfe6"
  }
 ],
 "metadata": {
  "kernelspec": {
   "display_name": "Python 3",
   "language": "python",
   "name": "python3"
  },
  "language_info": {
   "codemirror_mode": {
    "name": "ipython",
    "version": 2
   },
   "file_extension": ".py",
   "mimetype": "text/x-python",
   "name": "python",
   "nbconvert_exporter": "python",
   "pygments_lexer": "ipython2",
   "version": "2.7.6"
  }
 },
 "nbformat": 4,
 "nbformat_minor": 5
}
