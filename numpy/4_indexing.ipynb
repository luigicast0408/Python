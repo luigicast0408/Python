{
 "cells": [
  {
   "cell_type": "code",
   "id": "initial_id",
   "metadata": {
    "collapsed": true,
    "jupyter": {
     "outputs_hidden": true
    },
    "ExecuteTime": {
     "end_time": "2024-10-28T22:23:28.575335Z",
     "start_time": "2024-10-28T22:23:28.517130Z"
    }
   },
   "source": [
    "import numpy as np\n",
    "from mpmath import matrix"
   ],
   "outputs": [],
   "execution_count": 35
  },
  {
   "cell_type": "code",
   "id": "2085d484896b6845",
   "metadata": {
    "ExecuteTime": {
     "end_time": "2024-10-28T22:23:28.582897Z",
     "start_time": "2024-10-28T22:23:28.580319Z"
    }
   },
   "source": [
    "# array with elements from 0 to 11\n",
    "arr = np.arange(12) \n",
    "print(arr)\n",
    "\n",
    "# transform in a matrix 4 x 3\n",
    "arr = arr.reshape(4,-1)\n",
    "print('arr: \\n',arr)\n",
    "\n",
    "# return the list in python  corresponding to array\n",
    "list = arr.tolist() \n",
    "print('list: \\n',list)\n",
    "\n",
    "# select the element of index 1 (all row)\n",
    "print('arr[2]: ',arr[2]) \n",
    "\n",
    "# select the element of index 1 (all row) list \n",
    "print('list[2]: \\n',list[2])\n",
    "\n",
    "\n"
   ],
   "outputs": [
    {
     "name": "stdout",
     "output_type": "stream",
     "text": [
      "[ 0  1  2  3  4  5  6  7  8  9 10 11]\n",
      "arr: \n",
      " [[ 0  1  2]\n",
      " [ 3  4  5]\n",
      " [ 6  7  8]\n",
      " [ 9 10 11]]\n",
      "list: \n",
      " [[0, 1, 2], [3, 4, 5], [6, 7, 8], [9, 10, 11]]\n",
      "arr[2]:  [6 7 8]\n",
      "list[2]: \n",
      " [6, 7, 8]\n"
     ]
    }
   ],
   "execution_count": 36
  },
  {
   "cell_type": "code",
   "id": "b3846dd6134c4333",
   "metadata": {
    "ExecuteTime": {
     "end_time": "2024-10-28T22:23:28.593240Z",
     "start_time": "2024-10-28T22:23:28.590929Z"
    }
   },
   "source": [
    "# slicing \n",
    "print('arr\\n',arr)\n",
    "\n",
    "# from 0 to penultimate element excluded\n",
    "print('arr[:2]\\n',arr[:2])\n",
    "\n",
    "# from index 2 to 4 excluded\n",
    "print('arr[2 : 4]\\n',arr[2 : 4])\n",
    "\n",
    "# from index 1 to 4 excluded with step two\n",
    "print('arr[1:4:2]\\n',arr[1:4:2])\n",
    "\n",
    "# all row from 1 to 2 excluded \n",
    "print('arr[:, 1:2]\\n',arr[:, 1:2])\n",
    "\n",
    "# all elements of column of index 1\n",
    "print('arr[:,1]\\n',arr[:,1])"
   ],
   "outputs": [
    {
     "name": "stdout",
     "output_type": "stream",
     "text": [
      "arr\n",
      " [[ 0  1  2]\n",
      " [ 3  4  5]\n",
      " [ 6  7  8]\n",
      " [ 9 10 11]]\n",
      "arr[:2]\n",
      " [[0 1 2]\n",
      " [3 4 5]]\n",
      "arr[2 : 4]\n",
      " [[ 6  7  8]\n",
      " [ 9 10 11]]\n",
      "arr[1:4:2]\n",
      " [[ 3  4  5]\n",
      " [ 9 10 11]]\n",
      "arr[:, 1:2]\n",
      " [[ 1]\n",
      " [ 4]\n",
      " [ 7]\n",
      " [10]]\n",
      "arr[:,1]\n",
      " [ 1  4  7 10]\n"
     ]
    }
   ],
   "execution_count": 37
  },
  {
   "cell_type": "code",
   "id": "8a537ff4f96a3e0f",
   "metadata": {
    "ExecuteTime": {
     "end_time": "2024-10-28T22:23:28.604886Z",
     "start_time": "2024-10-28T22:23:28.602366Z"
    }
   },
   "source": [
    "# array of index\n",
    "print('arr\\n',arr)\n",
    "\n",
    "print(arr[[1,2,3]]) #rows\n",
    "print(arr.flatten()[[1,2,3]]) # select the elements with this index now are values\n",
    "print(arr[[1,2,3],0]) # select the elements [1,0] [2,0] [3,0]\n",
    "print(arr[[1,2,3],[0,1,2]]) # elect the elements [1,0] [2,1] [3,2]"
   ],
   "outputs": [
    {
     "name": "stdout",
     "output_type": "stream",
     "text": [
      "arr\n",
      " [[ 0  1  2]\n",
      " [ 3  4  5]\n",
      " [ 6  7  8]\n",
      " [ 9 10 11]]\n",
      "[[ 3  4  5]\n",
      " [ 6  7  8]\n",
      " [ 9 10 11]]\n",
      "[1 2 3]\n",
      "[3 6 9]\n",
      "[ 3  7 11]\n"
     ]
    }
   ],
   "execution_count": 38
  },
  {
   "metadata": {
    "ExecuteTime": {
     "end_time": "2024-10-28T22:23:28.611836Z",
     "start_time": "2024-10-28T22:23:28.610483Z"
    }
   },
   "cell_type": "code",
   "source": "",
   "id": "a0d99386547cbc51",
   "outputs": [],
   "execution_count": null
  },
  {
   "cell_type": "code",
   "id": "a8691005a8a01e0b",
   "metadata": {
    "ExecuteTime": {
     "end_time": "2024-10-28T22:23:28.628525Z",
     "start_time": "2024-10-28T22:23:28.623277Z"
    }
   },
   "source": [
    "# array of boolean value \n",
    "# Create a boolean mask manually\n",
    "print(\"Manual mask filter:\\n\", arr[[True, False, True, False]])\n",
    "\n",
    "# Generate a random boolean filter for the array\n",
    "filter = np.random.randint(0, 2, 4).astype(bool)\n",
    "print('Random filter:\\n', filter)\n",
    "\n",
    "# Apply the filter to the array\n",
    "print('Filtered array:\\n', arr[filter])\n",
    "\n",
    "# Boolean operations\n",
    "print('arr > 5:\\n', arr > 5)\n",
    "print('arr[arr > 5]:\\n', arr[arr > 5])\n",
    "print('logical not:\\n', arr[np.logical_not(arr <= 5)])\n",
    "print('logical and:\\n', arr[np.logical_and(arr > 15, arr < 35)])\n",
    "print('logical or:\\n', arr[np.logical_or(arr < 15, arr > 35)])\n",
    "print('isin:\\n', arr[np.isin(arr, [7, 4, 1, 8])])\n",
    "\n",
    "# Working with slices and fancy indexing\n",
    "ar = np.arange(10)\n",
    "print('Original array:\\n', ar)\n",
    "\n",
    "# Slicing\n",
    "slice_index = ar[0:2]  # [0,1,2]\n",
    "print('Slice index:\\n', slice_index)\n",
    "\n",
    "# Fancy indexing with slice_index\n",
    "fancy_index = ar[slice_index] # [0,1,2]\n",
    "print('Fancy index:\\n', fancy_index)\n",
    "\n",
    "# Boolean indexing\n",
    "bool_index = ar[np.logical_and(ar >= 0, ar <= 3)] # [0,1,2]\n",
    "print('Boolean index:\\n', bool_index)\n",
    "\n",
    "# Modify slice_index, fancy_index, and bool_index without affecting original array `ar`\n",
    "slice_index[0] = -1\n",
    "# Ensure fancy_index has enough elements before changing values\n",
    "if len(fancy_index) > 1:\n",
    "    fancy_index[1] = -1 \n",
    "# Ensure bool_index has enough elements before changing values\n",
    "if len(bool_index) > 2:\n",
    "    bool_index[2] = -1\n",
    "\n",
    "print('Modified slice_index:\\n', slice_index)\n",
    "print('Modified fancy_index:\\n', fancy_index)\n",
    "print('Modified bool_index:\\n', bool_index)\n",
    "print('Original array after attempted modifications:\\n', ar)"
   ],
   "outputs": [
    {
     "name": "stdout",
     "output_type": "stream",
     "text": [
      "Manual mask filter:\n",
      " [[0 1 2]\n",
      " [6 7 8]]\n",
      "Random filter:\n",
      " [ True False False  True]\n",
      "Filtered array:\n",
      " [[ 0  1  2]\n",
      " [ 9 10 11]]\n",
      "arr > 5:\n",
      " [[False False False]\n",
      " [False False False]\n",
      " [ True  True  True]\n",
      " [ True  True  True]]\n",
      "arr[arr > 5]:\n",
      " [ 6  7  8  9 10 11]\n",
      "logical not:\n",
      " [ 6  7  8  9 10 11]\n",
      "logical and:\n",
      " []\n",
      "logical or:\n",
      " [ 0  1  2  3  4  5  6  7  8  9 10 11]\n",
      "isin:\n",
      " [1 4 7 8]\n",
      "Original array:\n",
      " [0 1 2 3 4 5 6 7 8 9]\n",
      "Slice index:\n",
      " [0 1]\n",
      "Fancy index:\n",
      " [0 1]\n",
      "Boolean index:\n",
      " [0 1 2 3]\n",
      "Modified slice_index:\n",
      " [-1  1]\n",
      "Modified fancy_index:\n",
      " [ 0 -1]\n",
      "Modified bool_index:\n",
      " [ 0  1 -1  3]\n",
      "Original array after attempted modifications:\n",
      " [-1  1  2  3  4  5  6  7  8  9]\n"
     ]
    }
   ],
   "execution_count": 39
  },
  {
   "cell_type": "code",
   "id": "a8023e35-86a0-4e36-add7-1987024e8383",
   "metadata": {
    "ExecuteTime": {
     "end_time": "2024-10-28T22:24:10.954895Z",
     "start_time": "2024-10-28T22:24:10.951228Z"
    }
   },
   "source": [
    "# use of function arg_where \n",
    "# Create an array\n",
    "ar1 = np.arange(6)\n",
    "print('Original array:\\n', ar)\n",
    "\n",
    "# Use np.argwhere to find indices of elements that satisfy a condition\n",
    "print('Indices where elements are even:\\n', np.argwhere(ar % 2 == 0))\n",
    "\n",
    "# Reshape the array into a 2x5 matrix\n",
    "matrix = ar1.reshape(2, 3)\n",
    "print('Original matrix:\\n', matrix)\n",
    "\n",
    "# Find indices of even elements in the reshaped matrix\n",
    "print('Indices where elements in the matrix are even:\\n', np.argwhere(matrix % 2 == 0))"
   ],
   "outputs": [
    {
     "name": "stdout",
     "output_type": "stream",
     "text": [
      "Original array:\n",
      " [-1  1  2  3  4  5  6  7  8  9]\n",
      "Indices where elements are even:\n",
      " [[2]\n",
      " [4]\n",
      " [6]\n",
      " [8]]\n",
      "Original matrix:\n",
      " [[0 1 2]\n",
      " [3 4 5]]\n",
      "Indices where elements in the matrix are even:\n",
      " [[0 0]\n",
      " [0 2]\n",
      " [1 1]]\n"
     ]
    }
   ],
   "execution_count": 41
  }
 ],
 "metadata": {
  "kernelspec": {
   "display_name": "Python 3 (ipykernel)",
   "language": "python",
   "name": "python3"
  },
  "language_info": {
   "codemirror_mode": {
    "name": "ipython",
    "version": 3
   },
   "file_extension": ".py",
   "mimetype": "text/x-python",
   "name": "python",
   "nbconvert_exporter": "python",
   "pygments_lexer": "ipython3",
   "version": "3.12.0"
  }
 },
 "nbformat": 4,
 "nbformat_minor": 5
}
