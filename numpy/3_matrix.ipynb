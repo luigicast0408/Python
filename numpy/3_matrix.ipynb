{
 "cells": [
  {
   "cell_type": "code",
   "id": "initial_id",
   "metadata": {
    "collapsed": true,
    "ExecuteTime": {
     "end_time": "2024-10-27T20:13:56.345391Z",
     "start_time": "2024-10-27T20:13:56.293122Z"
    }
   },
   "source": [
    "from array import array\n",
    "\n",
    "import numpy as np"
   ],
   "outputs": [],
   "execution_count": 1
  },
  {
   "metadata": {
    "ExecuteTime": {
     "end_time": "2024-10-27T22:50:24.093800Z",
     "start_time": "2024-10-27T22:50:24.090075Z"
    }
   },
   "cell_type": "code",
   "source": [
    "ndarray = np.array([[[1, 2], [10, 20], [100, 200]]])\n",
    "print(ndarray)\n",
    "print('number of dimension', np.ndim(ndarray))\n",
    "print('type of ndarray', type(ndarray))\n",
    "print('elements for any size', np.shape(ndarray))\n",
    "print('total elements', np.size(ndarray))"
   ],
   "id": "5a0d98ab1b91ee35",
   "outputs": [
    {
     "name": "stdout",
     "output_type": "stream",
     "text": [
      "[[[  1   2]\n",
      "  [ 10  20]\n",
      "  [100 200]]]\n",
      "number of dimension 3\n",
      "type of ndarray <class 'numpy.ndarray'>\n",
      "elements for any size (1, 3, 2)\n",
      "total elements 6\n"
     ]
    }
   ],
   "execution_count": 13
  },
  {
   "metadata": {
    "ExecuteTime": {
     "end_time": "2024-10-27T22:39:40.520573Z",
     "start_time": "2024-10-27T22:39:40.515054Z"
    }
   },
   "cell_type": "code",
   "source": [
    "# create a copy with a dimension of array\n",
    "arr1 = ndarray.flatten()\n",
    "print(arr1)\n",
    "\n",
    "# maintains a reference with original array\n",
    "arr2 = ndarray.ravel()\n",
    "print(arr2)\n",
    "\n",
    "arr1[0] = 0\n",
    "arr2[1] = 0\n",
    "print(arr1)\n",
    "print(arr2)\n",
    "print(ndarray)"
   ],
   "id": "646e503596ffa514",
   "outputs": [
    {
     "name": "stdout",
     "output_type": "stream",
     "text": [
      "[1 2 3 4 5 6]\n",
      "[1 2 3 4 5 6]\n",
      "[0 2 3 4 5 6]\n",
      "[1 0 3 4 5 6]\n",
      "[[1 0 3]\n",
      " [4 5 6]]\n"
     ]
    }
   ],
   "execution_count": 4
  },
  {
   "metadata": {
    "ExecuteTime": {
     "end_time": "2024-10-27T22:53:52.612294Z",
     "start_time": "2024-10-27T22:53:52.608511Z"
    }
   },
   "cell_type": "code",
   "source": [
    "# You can modify the structure of ndarray (dimension) but the new dimension are compatible. For EX array with 12 elements 2 x 6 or 4 x 3 (matrix rows and cols)\n",
    "arr1.shape = (3, 2)\n",
    "print(\"Reshaped arr1:\", arr1)\n",
    "\n",
    "# Reshape the original ndarray to (2, -1) - will work since it has 6 elements\n",
    "matr = ndarray.reshape(2, -1)\n",
    "print(\"Reshaped ndarray:\", matr)"
   ],
   "id": "e8a0fb23ac8c89eb",
   "outputs": [
    {
     "name": "stdout",
     "output_type": "stream",
     "text": [
      "Reshaped arr1: [[0 2]\n",
      " [3 4]\n",
      " [5 6]]\n",
      "Reshaped ndarray: [[  1   2  10]\n",
      " [ 20 100 200]]\n"
     ]
    }
   ],
   "execution_count": 14
  },
  {
   "metadata": {
    "ExecuteTime": {
     "end_time": "2024-10-27T22:58:01.173218Z",
     "start_time": "2024-10-27T22:58:01.170006Z"
    }
   },
   "cell_type": "code",
   "source": [
    "# if we make transpose matrix we use this instruction\n",
    "arr3 = np.arange(24)\n",
    "arr3 = arr3.reshape(4, 6)\n",
    "print(\"Reshaped arr3:\", arr3.T)"
   ],
   "id": "b7f8b323287b8d30",
   "outputs": [
    {
     "name": "stdout",
     "output_type": "stream",
     "text": [
      "Reshaped arr3: [[ 0  6 12 18]\n",
      " [ 1  7 13 19]\n",
      " [ 2  8 14 20]\n",
      " [ 3  9 15 21]\n",
      " [ 4 10 16 22]\n",
      " [ 5 11 17 23]]\n"
     ]
    }
   ],
   "execution_count": 17
  },
  {
   "metadata": {
    "ExecuteTime": {
     "end_time": "2024-10-27T23:11:45.164235Z",
     "start_time": "2024-10-27T23:11:45.159389Z"
    }
   },
   "cell_type": "code",
   "source": [
    "# shift of elements \n",
    "# flatten and then shift\n",
    "print('axis = None\\n', np.roll(arr3,2)) \n",
    "\n",
    "# shift of whole rows\n",
    "print('axis = 0\\n', np.roll(arr3,1,axis=0))\n",
    "\n",
    "# shift to the left in each rows\n",
    "print('axis = 1 \\n', np.roll(arr3,-1,axis=1))"
   ],
   "id": "bba0d1802a2a29ad",
   "outputs": [
    {
     "name": "stdout",
     "output_type": "stream",
     "text": [
      "axis = None\n",
      " [[22 23  0  1  2  3]\n",
      " [ 4  5  6  7  8  9]\n",
      " [10 11 12 13 14 15]\n",
      " [16 17 18 19 20 21]]\n",
      "axis = 0\n",
      " [[18 19 20 21 22 23]\n",
      " [ 0  1  2  3  4  5]\n",
      " [ 6  7  8  9 10 11]\n",
      " [12 13 14 15 16 17]]\n",
      "axis = 1 \n",
      " [[ 1  2  3  4  5  0]\n",
      " [ 7  8  9 10 11  6]\n",
      " [13 14 15 16 17 12]\n",
      " [19 20 21 22 23 18]]\n"
     ]
    }
   ],
   "execution_count": 19
  }
 ],
 "metadata": {
  "kernelspec": {
   "display_name": "Python 3",
   "language": "python",
   "name": "python3"
  },
  "language_info": {
   "codemirror_mode": {
    "name": "ipython",
    "version": 2
   },
   "file_extension": ".py",
   "mimetype": "text/x-python",
   "name": "python",
   "nbconvert_exporter": "python",
   "pygments_lexer": "ipython2",
   "version": "2.7.6"
  }
 },
 "nbformat": 4,
 "nbformat_minor": 5
}
