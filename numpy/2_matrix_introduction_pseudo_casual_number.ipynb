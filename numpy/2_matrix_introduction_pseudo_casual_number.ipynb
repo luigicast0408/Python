{
 "cells": [
  {
   "cell_type": "code",
   "id": "initial_id",
   "metadata": {
    "collapsed": true,
    "ExecuteTime": {
     "end_time": "2024-10-27T20:01:28.503444Z",
     "start_time": "2024-10-27T20:01:28.501522Z"
    }
   },
   "source": "import numpy as np",
   "outputs": [],
   "execution_count": 13
  },
  {
   "metadata": {
    "ExecuteTime": {
     "end_time": "2024-10-27T20:01:28.516843Z",
     "start_time": "2024-10-27T20:01:28.513942Z"
    }
   },
   "cell_type": "code",
   "source": [
    "# matrix with 3 row and 3 cols with pseudo casual values in [0...1]\n",
    "matrix1 = np.random.randn(3, 3) \n",
    "print('matrix1',matrix1)\n",
    "\n",
    "# matrix with 3 rows and 3 cols with pseudo casual values (int) in [1..8]\n",
    "matrix2 = np.random.randint(1,8, size=(3, 3))\n",
    "print('matrix2',matrix1)\n",
    "\n",
    "# matrix with 3 row and 3 cols with pseudo casual values real numbers and sampled.\n",
    "matrix3 = np.random.randn(3, 3) \n",
    "print('matrix3',matrix1)\n",
    "\n"
   ],
   "id": "fd977b7afb01487",
   "outputs": [
    {
     "name": "stdout",
     "output_type": "stream",
     "text": [
      "matrix1 [[ 0.70145928 -0.14462917 -2.39233474]\n",
      " [ 0.73270472 -0.96965742 -0.04516919]\n",
      " [-0.77350296 -0.11897716  1.04608807]]\n",
      "matrix2 [[ 0.70145928 -0.14462917 -2.39233474]\n",
      " [ 0.73270472 -0.96965742 -0.04516919]\n",
      " [-0.77350296 -0.11897716  1.04608807]]\n",
      "matrix3 [[ 0.70145928 -0.14462917 -2.39233474]\n",
      " [ 0.73270472 -0.96965742 -0.04516919]\n",
      " [-0.77350296 -0.11897716  1.04608807]]\n"
     ]
    }
   ],
   "execution_count": 14
  },
  {
   "metadata": {},
   "cell_type": "markdown",
   "source": "# to get pseudo casual   real values evenly distributed between a min include and max excluded",
   "id": "cded3ee302f58baa"
  },
  {
   "metadata": {
    "ExecuteTime": {
     "end_time": "2024-10-27T20:01:28.590902Z",
     "start_time": "2024-10-27T20:01:28.588581Z"
    }
   },
   "cell_type": "code",
   "source": [
    "min = 10\n",
    "max = 20\n",
    "value = np.random.uniform(min,max)\n",
    "print(value)    "
   ],
   "id": "9be1ab47a59b7881",
   "outputs": [
    {
     "name": "stdout",
     "output_type": "stream",
     "text": [
      "16.885309375564212\n"
     ]
    }
   ],
   "execution_count": 15
  },
  {
   "metadata": {
    "ExecuteTime": {
     "end_time": "2024-10-27T20:01:28.607036Z",
     "start_time": "2024-10-27T20:01:28.604381Z"
    }
   },
   "cell_type": "code",
   "source": [
    "# random choice of string with specify probability(80% and 20%)\n",
    "print(np.random.choice(['head', 'cross'], size=5, p=[0.8, 0.2]))"
   ],
   "id": "cadeed62f33e4d56",
   "outputs": [
    {
     "name": "stdout",
     "output_type": "stream",
     "text": [
      "['head' 'cross' 'head' 'head' 'head']\n"
     ]
    }
   ],
   "execution_count": 16
  },
  {
   "metadata": {},
   "cell_type": "code",
   "outputs": [],
   "execution_count": null,
   "source": [
    "# random choice of string with a value that has already been extracted will no longer be extracted\n",
    "print(np.random.choice(['Qui', 'Quo', 'Qua'], size=5,replace=False))"
   ],
   "id": "2929cda700d39b6b"
  },
  {
   "metadata": {
    "ExecuteTime": {
     "end_time": "2024-10-27T20:09:47.668284Z",
     "start_time": "2024-10-27T20:09:47.665531Z"
    }
   },
   "cell_type": "code",
   "source": [
    "# with seed instruction the output is the same when it will be performed \n",
    "np.random.seed(10)\n",
    "print(np.random.rand(2,2))"
   ],
   "id": "45931fdc1f6235f7",
   "outputs": [
    {
     "name": "stdout",
     "output_type": "stream",
     "text": [
      "[[0.77132064 0.02075195]\n",
      " [0.63364823 0.74880388]]\n"
     ]
    }
   ],
   "execution_count": 19
  },
  {
   "metadata": {},
   "cell_type": "markdown",
   "source": "\n",
   "id": "83b0e462f7d42169"
  }
 ],
 "metadata": {
  "kernelspec": {
   "display_name": "Python 3",
   "language": "python",
   "name": "python3"
  },
  "language_info": {
   "codemirror_mode": {
    "name": "ipython",
    "version": 2
   },
   "file_extension": ".py",
   "mimetype": "text/x-python",
   "name": "python",
   "nbconvert_exporter": "python",
   "pygments_lexer": "ipython2",
   "version": "2.7.6"
  }
 },
 "nbformat": 4,
 "nbformat_minor": 5
}
