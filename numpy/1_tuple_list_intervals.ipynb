{
 "cells": [
  {
   "cell_type": "code",
   "id": "initial_id",
   "metadata": {
    "collapsed": true,
    "ExecuteTime": {
     "end_time": "2024-10-27T19:30:41.059471Z",
     "start_time": "2024-10-27T19:30:41.057251Z"
    }
   },
   "source": "import numpy as np",
   "outputs": [],
   "execution_count": 32
  },
  {
   "metadata": {
    "ExecuteTime": {
     "end_time": "2024-10-27T19:30:41.080749Z",
     "start_time": "2024-10-27T19:30:41.077076Z"
    }
   },
   "cell_type": "code",
   "source": [
    "# Array from a tuple\n",
    "a1 = np.array([1, 2, 3])\n",
    "\n",
    "# Array from a list with type specifier np.int8, allowing negative values\n",
    "a2 = np.array([1.6, -1, 3], np.int8)\n",
    "\n",
    "# Array from range [0...stop] with step 1 and type specifier\n",
    "a3 = np.arange(10, dtype=float)\n",
    "\n",
    "# Array from range [start ... stop] with step 2\n",
    "a4 = np.arange(4, 10, 2)\n",
    "\n",
    "# Array with 5 evenly spaced values between 10 and 20\n",
    "a5 = np.linspace(10, 20, 5)\n",
    "\n",
    "print(\"a1:\", a1)\n",
    "print(\"a2:\", a2)\n",
    "print(\"a3:\", a3)\n",
    "print(\"a4:\", a4)\n",
    "print(\"a5:\", a5)"
   ],
   "id": "36cfb0bd174f8cc9",
   "outputs": [
    {
     "name": "stdout",
     "output_type": "stream",
     "text": [
      "a1: [1 2 3]\n",
      "a2: [ 1 -1  3]\n",
      "a3: [0. 1. 2. 3. 4. 5. 6. 7. 8. 9.]\n",
      "a4: [4 6 8]\n",
      "a5: [10.  12.5 15.  17.5 20. ]\n"
     ]
    }
   ],
   "execution_count": 33
  },
  {
   "metadata": {
    "ExecuteTime": {
     "end_time": "2024-10-27T19:31:29.989167Z",
     "start_time": "2024-10-27T19:31:29.985117Z"
    }
   },
   "cell_type": "code",
   "source": [
    "# array of 0 with type specifier (for default float64)\n",
    "a6 = np.zeros(8, dtype = np.uint) \n",
    "\n",
    "# array of 1 for default float64\n",
    "a7 = np.ones(6)\n",
    "\n",
    "# array of 0 with specific dimension\n",
    "a8 = np.zeros((2,3))\n",
    "print(\"a6:\", a6)\n",
    "print(\"a7:\", a7)\n",
    "print(\"a8:\", a8)\n",
    "\n",
    "a8.fill(2)\n",
    "print(\"a8:\", a8)"
   ],
   "id": "8b8f8f09739ae0d1",
   "outputs": [
    {
     "name": "stdout",
     "output_type": "stream",
     "text": [
      "a6: [0 0 0 0 0 0 0 0]\n",
      "a7: [1. 1. 1. 1. 1. 1.]\n",
      "a8: [[0. 0. 0.]\n",
      " [0. 0. 0.]]\n",
      "a8: [[2. 2. 2.]\n",
      " [2. 2. 2.]]\n"
     ]
    }
   ],
   "execution_count": 35
  },
  {
   "metadata": {},
   "cell_type": "markdown",
   "source": "",
   "id": "6bd7b18a78ede85f"
  }
 ],
 "metadata": {
  "kernelspec": {
   "display_name": "Python 3",
   "language": "python",
   "name": "python3"
  },
  "language_info": {
   "codemirror_mode": {
    "name": "ipython",
    "version": 2
   },
   "file_extension": ".py",
   "mimetype": "text/x-python",
   "name": "python",
   "nbconvert_exporter": "python",
   "pygments_lexer": "ipython2",
   "version": "2.7.6"
  }
 },
 "nbformat": 4,
 "nbformat_minor": 5
}
